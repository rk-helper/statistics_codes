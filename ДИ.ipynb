{
 "cells": [
  {
   "cell_type": "markdown",
   "metadata": {},
   "source": [
    "# PREPARE TO shit yourself <span style=\"color:red\">5TH TIME in a row</span>"
   ]
  },
  {
   "cell_type": "code",
   "execution_count": 1,
   "metadata": {},
   "outputs": [],
   "source": [
    "from IPython.display import display, Math\n",
    "import statistics\n",
    "import scipy.stats\n",
    "import math\n",
    "import pandas as pd\n",
    "import numpy as np\n",
    "from scipy import stats\n",
    "import matplotlib.pyplot as plt\n",
    "from scipy.stats import norm\n",
    "from scipy.stats import chi2\n",
    "from scipy.stats import t\n",
    "from scipy.stats import f"
   ]
  },
  {
   "cell_type": "markdown",
   "metadata": {},
   "source": [
    "###  <span style=\"color:orange\">Выборочное среднее и дисперсии</span>"
   ]
  },
  {
   "cell_type": "code",
   "execution_count": null,
   "metadata": {
    "scrolled": true
   },
   "outputs": [],
   "source": [
    "d = list(map(float, input().split(',')))\n",
    "print('Выборочное среднее: ', statistics.mean(d))\n",
    "print('Неисправленная выборочная диперсия:', (len(d) - 1)/(len(d))*statistics.variance(d))\n",
    "print('(Несмещенная) Исправленная выборочная диперсия:', statistics.variance(d))"
   ]
  },
  {
   "cell_type": "markdown",
   "metadata": {},
   "source": [
    "### Распределения"
   ]
  },
  {
   "cell_type": "code",
   "execution_count": null,
   "metadata": {},
   "outputs": [],
   "source": [
    "x = str(input('Type of distirbution: '))  # type of distirbution\n",
    "n = int(input('Type percentage of ci interval: '))  # Type percentage of ci interval\n",
    "if x == 'norm':\n",
    "    print('left point:', norm.ppf(((100 - n) / 2) / 100))\n",
    "    print('right point:', norm.ppf((((100 - n) / 2) + n) / 100))\n",
    "elif x == 'chi2':\n",
    "    df = int(input('Degrees of freedom of chi2: '))  # number of experiments\n",
    "    print('left point:', chi2.ppf(((100 - n) / 2) / 100, df - 1))\n",
    "    print('right point:', chi2.ppf((((100 - n) / 2) + n) / 100, df - 1))\n",
    "elif x == 't':\n",
    "    df = int(input('Degrees of freedom of t: '))  # number of experiments\n",
    "    print('left point:', t.ppf(((100 - n) / 2) / 100, df - 1))\n",
    "    print('right point:', t.ppf((((100 - n) / 2) + n) / 100, df - 1))"
   ]
  },
  {
   "cell_type": "code",
   "execution_count": null,
   "metadata": {},
   "outputs": [],
   "source": [
    "norm.ppf(0.05)"
   ]
  },
  {
   "cell_type": "code",
   "execution_count": null,
   "metadata": {},
   "outputs": [],
   "source": [
    "norm.pdf(0.5)"
   ]
  },
  {
   "cell_type": "markdown",
   "metadata": {},
   "source": [
    "## <span style=\"color:orange\">Интервалы для нормального распределения</span>"
   ]
  },
  {
   "cell_type": "markdown",
   "metadata": {},
   "source": [
    "###  МО | Известная дисперсия"
   ]
  },
  {
   "cell_type": "markdown",
   "metadata": {},
   "source": [
    "btw если Бернулли - использовать формулу ниже"
   ]
  },
  {
   "cell_type": "markdown",
   "metadata": {},
   "source": [
    "и если ассимптотический интервал"
   ]
  },
  {
   "cell_type": "code",
   "execution_count": 6,
   "metadata": {},
   "outputs": [
    {
     "name": "stdout",
     "output_type": "stream",
     "text": [
      "Statistics mean: 1\n",
      "Sample size: 9\n",
      "Type percentage of ci interval: 95\n",
      "Type sigma: 1.5\n",
      "\n",
      "\n"
     ]
    },
    {
     "data": {
      "text/latex": [
       "$\\displaystyle 0.02 < \\mu < 1.98$"
      ],
      "text/plain": [
       "<IPython.core.display.Math object>"
      ]
     },
     "metadata": {},
     "output_type": "display_data"
    }
   ],
   "source": [
    "x = float(input('Statistics mean: '))\n",
    "m = int(input('Sample size: '))\n",
    "n = float(input('Type percentage of ci interval: '))\n",
    "sigma = float(input('Type sigma: ' ))\n",
    "\n",
    "print('\\n')\n",
    "point = abs(norm.ppf(((100 - n) / 2) / 100))\n",
    "x1 = round(x - ((point * sigma)/(m ** 0.5)), 3)\n",
    "x2 = round(x + ((point * sigma)/(m ** 0.5)), 3)\n",
    "display(Math('{} < \\mu < {}'.format(x1, x2)))"
   ]
  },
  {
   "cell_type": "markdown",
   "metadata": {},
   "source": [
    "### Если дан список"
   ]
  },
  {
   "cell_type": "code",
   "execution_count": null,
   "metadata": {},
   "outputs": [],
   "source": [
    "d = list(map(float, input('Type list: ').split(',')))\n",
    "n = float(input('Type percentage of ci interval: '))\n",
    "sigma = float(input('Type sigma: ' ))\n",
    "x = statistics.mean(d)\n",
    "m = len(d)\n",
    "point = abs(norm.ppf(((100 - n) / 2) / 100))\n",
    "x1 = round(x - ((point * sigma)/(m ** 0.5)), 3)\n",
    "x2 = round(x + ((point * sigma)/(m ** 0.5)), 3)\n",
    "\n",
    "display(Math('{} < \\mu < {}'.format(x1, x2)))"
   ]
  },
  {
   "cell_type": "markdown",
   "metadata": {},
   "source": [
    "### MO | Неизвестная дисперсия"
   ]
  },
  {
   "cell_type": "markdown",
   "metadata": {},
   "source": [
    "Для асимптотического тоже!"
   ]
  },
  {
   "cell_type": "code",
   "execution_count": 5,
   "metadata": {},
   "outputs": [
    {
     "name": "stdout",
     "output_type": "stream",
     "text": [
      "Statistics mean: 1\n",
      "Sample size: 9\n",
      "Type sigma: 1.4\n",
      "Type percentage of ci interval: 95\n",
      "\n",
      "\n"
     ]
    },
    {
     "data": {
      "text/latex": [
       "$\\displaystyle -0.076 < \\mu < 2.076$"
      ],
      "text/plain": [
       "<IPython.core.display.Math object>"
      ]
     },
     "metadata": {},
     "output_type": "display_data"
    }
   ],
   "source": [
    "x = float(input('Statistics mean: '))\n",
    "m = int(input('Sample size: '))\n",
    "sigma = float(input('Type sigma: ' ))\n",
    "n = float(input('Type percentage of ci interval: '))\n",
    "\n",
    "print('\\n')\n",
    "point = abs(t.ppf(((100 - n) / 2) / 100, m - 1))\n",
    "x1 = round(x - ((point * sigma)/(m ** 0.5)), 3)\n",
    "x2 = round(x + ((point * sigma)/(m ** 0.5)), 3)\n",
    "\n",
    "display(Math('{} < \\mu < {}'.format(x1, x2)))"
   ]
  },
  {
   "cell_type": "markdown",
   "metadata": {},
   "source": [
    "#### Если дан список"
   ]
  },
  {
   "cell_type": "code",
   "execution_count": null,
   "metadata": {},
   "outputs": [],
   "source": [
    "d = list(map(float, input('Type list: ').split(',')))\n",
    "n = float(input('Type percentage of ci interval: '))\n",
    "\n",
    "sigma = statistics.variance(d)\n",
    "x = statistics.mean(d)\n",
    "m = len(d)\n",
    "point = abs(t.ppf(((100 - n) / 2) / 100, m - 1))\n",
    "x1 = round(x - ((point * (sigma / m) ** 0.5)), 3)\n",
    "x2 = round(x + ((point * (sigma / m) ** 0.5)), 3)\n",
    "\n",
    "display(Math('{} < \\mu < {}'.format(x1, x2)))"
   ]
  },
  {
   "cell_type": "markdown",
   "metadata": {},
   "source": [
    "### VAR | Известное МО"
   ]
  },
  {
   "cell_type": "code",
   "execution_count": null,
   "metadata": {},
   "outputs": [],
   "source": [
    "d = list(map(float, input('Type list: ').split(',')))\n",
    "n = float(input('Type percentage of ci interval: '))\n",
    "x = float(input('Statistics mean: '))\n",
    "m = len(d)\n",
    "point1 = chi2.ppf(((100 - n) / 2) / 100, m)\n",
    "point2 = chi2.ppf((((100 - n) / 2) + n) / 100, m)\n",
    "x1 = round(sum([(i - x) ** 2 for i in d]) / point2, 3)\n",
    "x2 = round(sum([(i - x) ** 2 for i in d]) / point1, 3)\n",
    "\n",
    "display(Math('{} < \\sigma < {}'.format(round(x1 ** 0.5, 3), round(x2 ** 0.5, 3))))\n",
    "display(Math('{} < \\sigma^2 < {}'.format(x1, x2)))"
   ]
  },
  {
   "cell_type": "code",
   "execution_count": null,
   "metadata": {},
   "outputs": [],
   "source": [
    "sum([(i - x) ** 2 for i in d])"
   ]
  },
  {
   "cell_type": "markdown",
   "metadata": {},
   "source": [
    "### VAR | Неизвестное МО"
   ]
  },
  {
   "cell_type": "code",
   "execution_count": 3,
   "metadata": {},
   "outputs": [
    {
     "name": "stdout",
     "output_type": "stream",
     "text": [
      "Sigma: 3.24\n",
      "Sample size: 21\n",
      "Type percentage of ci interval: 90\n"
     ]
    },
    {
     "data": {
      "text/latex": [
       "$\\displaystyle 2.585 < \\sigma < 4.399$"
      ],
      "text/plain": [
       "<IPython.core.display.Math object>"
      ]
     },
     "metadata": {},
     "output_type": "display_data"
    },
    {
     "data": {
      "text/latex": [
       "$\\displaystyle 6.684 < \\sigma^2 < 19.349$"
      ],
      "text/plain": [
       "<IPython.core.display.Math object>"
      ]
     },
     "metadata": {},
     "output_type": "display_data"
    }
   ],
   "source": [
    "sigma = float(input('Sigma: '))\n",
    "m = int(input('Sample size: '))\n",
    "n = float(input('Type percentage of ci interval: '))\n",
    "point1 = chi2.ppf(((100 - n) / 2) / 100, m - 1)\n",
    "point2 = chi2.ppf((((100 - n) / 2) + n) / 100, m - 1)\n",
    "x1 = round(sigma ** 2 * (m - 1) / point2, 3)\n",
    "x2 = round(sigma ** 2 * (m - 1) / point1, 3)\n",
    "\n",
    "display(Math('{} < \\sigma < {}'.format(round(x1 ** 0.5, 3), round(x2 ** 0.5, 3))))\n",
    "display(Math('{} < \\sigma^2 < {}'.format(x1, x2)))"
   ]
  },
  {
   "cell_type": "markdown",
   "metadata": {},
   "source": [
    "#### Если дан список"
   ]
  },
  {
   "cell_type": "code",
   "execution_count": null,
   "metadata": {},
   "outputs": [],
   "source": [
    "d = list(map(float, input('Type list: ').split(',')))\n",
    "n = float(input('Type percentage of ci interval: '))\n",
    "\n",
    "sigma = statistics.variance(d)\n",
    "x = statistics.mean(d)\n",
    "m = len(d)\n",
    "point1 = chi2.ppf(((100 - n) / 2) / 100, m - 1)\n",
    "point2 = chi2.ppf((((100 - n) / 2) + n) / 100, m - 1)\n",
    "x1 = round(sigma * (m - 1) / point2, 3)\n",
    "x2 = round(sigma * (m - 1) / point1, 3)\n",
    "\n",
    "display(Math('{} < \\sigma < {}'.format(round(x1 ** 0.5, 3), round(x2 ** 0.5, 3))))\n",
    "display(Math('{} < \\sigma^2 < {}'.format(x1, x2)))"
   ]
  },
  {
   "cell_type": "markdown",
   "metadata": {},
   "source": [
    "### $\\sigma_1^2 \\over \\sigma_2^2$"
   ]
  },
  {
   "cell_type": "code",
   "execution_count": null,
   "metadata": {},
   "outputs": [],
   "source": [
    "n1 = int(input('Sample size 1: '))\n",
    "s1 = float(input('Statistics deviation 1: '))\n",
    "n2 = int(input('Sample size 2: '))\n",
    "s2 = float(input('Statistics deviation 2: '))\n",
    "\n",
    "point1 = f.ppf((((100 - n) / 2) + n) / 100, n1-1, n2-1)\n",
    "point2 = f.ppf((((100 - n) / 2) + n) / 100, n2-1, n1-1)\n",
    "\n",
    "x1 = round((s1 ** 2 / s2 ** 2) * (1 / point1), 4)\n",
    "x2 = round((s1 ** 2 / s2 ** 2) * (point2), 4)\n",
    "\n",
    "display(Math('{} < (\\sigma_1^2 / \\sigma_2^2) < {}'.format(x1, x2)))"
   ]
  },
  {
   "cell_type": "markdown",
   "metadata": {},
   "source": [
    "## <span style=\"color:orange\">ДИ для разницы</span>"
   ]
  },
  {
   "cell_type": "markdown",
   "metadata": {},
   "source": [
    "### Связные пары - Неизвестное МО, неизвестная дисперсия"
   ]
  },
  {
   "cell_type": "code",
   "execution_count": null,
   "metadata": {},
   "outputs": [],
   "source": [
    "y = float(input('Before list avg: '))\n",
    "x = float(input('After list avg: '))\n",
    "n = int(input('Type ci percentage: '))\n",
    "m = int(input('Sample size: '))\n",
    "sigma = float(input('Sigma: '))\n",
    "\n",
    "point = abs(t.ppf(((100 - n) / 2) / 100, m - 1))\n",
    "\n",
    "x1 = round(x - y - ((point * sigma)/(m ** 0.5)), 3)\n",
    "x2 = round(x - y + ((point * sigma)/(m ** 0.5)), 3)\n",
    "display(Math('{} < \\mu_x-\\mu_y < {}'.format(x1, x2)))"
   ]
  },
  {
   "cell_type": "markdown",
   "metadata": {},
   "source": [
    "#### Если дан список"
   ]
  },
  {
   "cell_type": "code",
   "execution_count": null,
   "metadata": {},
   "outputs": [],
   "source": [
    "d = list(map(float, input('before list: ').split(',')))\n",
    "l = list(map(float, input('after list: ').split(',')))\n",
    "n = int(input('Type ci percentage: '))\n",
    "m = len(d)\n",
    "diff = []\n",
    "for i in range(len(d)):\n",
    "    diff.append(l[i] - d[i])\n",
    "sigma = statistics.variance(diff) ** 0.5\n",
    "point = abs(t.ppf(((100 - n) / 2) / 100, m - 1))\n",
    "x = statistics.mean(d)\n",
    "y = statistics.mean(l)\n",
    "\n",
    "x1 = round(x - y - ((point * sigma)/(m ** 0.5)), 3)\n",
    "x2 = round(x - y + ((point * sigma)/(m ** 0.5)), 3)\n",
    "display(Math('{} < \\mu_x-\\mu_y < {}'.format(x1, x2)))\n",
    "print(x, y, sigma, point)"
   ]
  },
  {
   "cell_type": "code",
   "execution_count": null,
   "metadata": {},
   "outputs": [],
   "source": [
    "1-t.cdf(point, m - 1)"
   ]
  },
  {
   "cell_type": "markdown",
   "metadata": {},
   "source": [
    "### Независимые выборки, известная дисперсия"
   ]
  },
  {
   "cell_type": "code",
   "execution_count": null,
   "metadata": {},
   "outputs": [],
   "source": [
    "x = float(input('before list avg: '))\n",
    "y = float(input('after list avg: '))\n",
    "z = int(input('before size sample: '))\n",
    "m = int(input('after size sample: '))\n",
    "sigma1 = float(input('before list sigma^2: '))\n",
    "sigma2 = float(input('after list sigma^2: '))\n",
    "\n",
    "n = int(input('Type ci percentage: '))\n",
    "\n",
    "point = abs(norm.ppf(((100 - n) / 2) / 100))\n",
    "se = (sigma1 / z + sigma2 / m) ** 0.5\n",
    "x1 = round(x - y - point * se, 3)\n",
    "x2 = round(x - y + point * se, 3)\n",
    "display(Math('{} < \\mu_x-\\mu_y < {}'.format(x1, x2)))"
   ]
  },
  {
   "cell_type": "markdown",
   "metadata": {},
   "source": [
    "#### Если дан список"
   ]
  },
  {
   "cell_type": "code",
   "execution_count": null,
   "metadata": {},
   "outputs": [],
   "source": [
    "d = list(map(float, input('before list: ').split(',')))\n",
    "l = list(map(float, input('after list: ').split(',')))\n",
    "n = int(input('Type ci percentage: '))\n",
    "sigma1 = float(input('before list sigma^2: '))\n",
    "sigma2 = float(input('after list sigma^2: '))\n",
    "m = len(d)\n",
    "z = len(l)\n",
    "\n",
    "point = abs(norm.ppf(((100 - n) / 2) / 100))\n",
    "x = statistics.mean(d)\n",
    "y = statistics.mean(l)\n",
    "se = (sigma1 / m + sigma2 / z) ** 0.5\n",
    "x1 = round(x - y - point * se, 3)\n",
    "x2 = round(x - y + point * se, 3)\n",
    "display(Math('{} < \\mu_x-\\mu_y < {}'.format(x1, x2)))"
   ]
  },
  {
   "cell_type": "markdown",
   "metadata": {},
   "source": [
    "### Независимые выборки, неизвестные дисперсии, <span style=\"color:red\">но равны</span>"
   ]
  },
  {
   "cell_type": "code",
   "execution_count": null,
   "metadata": {},
   "outputs": [],
   "source": [
    "x = float(input('before avg: '))\n",
    "sigmax = float(input('sigma^2: '))\n",
    "m = int(input('before sample size: '))\n",
    "y = float(input('after avg: '))\n",
    "z = int(input('after sample size: '))\n",
    "sigmay = float(input('sigma^2: '))\n",
    "n = int(input('Type ci percentage: '))\n",
    "\n",
    "\n",
    "pool = ((m - 1)*sigmax+(z - 1)*sigmay) / (m + z - 2)\n",
    "point = abs(t.ppf(((100 - n) / 2) / 100, m + z - 2))\n",
    "x1 = x - y - point * pool ** 0.5 * (1 / m + 1 / z) ** 0.5\n",
    "x2 = x - y + point * pool ** 0.5 * (1 / m + 1 / z) ** 0.5\n",
    "display(Math('{} < \\mu_x-\\mu_y < {}'.format(x1, x2)))\n",
    "print(x, y, point, pool, m, z)"
   ]
  },
  {
   "cell_type": "markdown",
   "metadata": {},
   "source": [
    "#### Если дан список"
   ]
  },
  {
   "cell_type": "code",
   "execution_count": null,
   "metadata": {},
   "outputs": [],
   "source": [
    "d = list(map(float, input('before list: ').split(',')))\n",
    "m = len(d)\n",
    "l = list(map(float, input('after list: ').split(',')))\n",
    "z = len(l)\n",
    "n = int(input('Type ci percentage: '))\n",
    "x = statistics.mean(d)\n",
    "y = statistics.mean(l)\n",
    "\n",
    "\n",
    "pool = ((m - 1)*statistics.variance(d)+(z - 1)*statistics.variance(l)) / (m + z - 2)\n",
    "point = abs(t.ppf(((100 - n) / 2) / 100, m + z - 2))\n",
    "x1 = round(x - y - point * pool ** 0.5 * (1 / m + 1 / z) ** 0.5, 3)\n",
    "x2 = round(x - y + point * pool ** 0.5 * (1 / m + 1 / z) ** 0.5, 3)\n",
    "display(Math('{} < \\mu_x-\\mu_y < {}'.format(x1, x2)))"
   ]
  },
  {
   "cell_type": "markdown",
   "metadata": {},
   "source": [
    "## <span style=\"color:orange\">Асимптотические доверительные интервалы</span>"
   ]
  },
  {
   "cell_type": "markdown",
   "metadata": {},
   "source": [
    "### Задача подсчета оптимального n для Бернулли"
   ]
  },
  {
   "cell_type": "code",
   "execution_count": null,
   "metadata": {},
   "outputs": [],
   "source": [
    "d = float(input('Type distance of ci: '))\n",
    "n = float(input('Type percentage of ci interval: '))\n",
    "\n",
    "point = abs(norm.ppf(((100 - n) / 2) / 100))\n",
    "\n",
    "m = round(point ** 2 / d ** 2, 3)\n",
    "display(Math('\\ n = {}'.format(m)))\n",
    "display(Math('\\hat p + {} < p < \\hat p + {}'.format(d/2, d/2)))"
   ]
  },
  {
   "cell_type": "markdown",
   "metadata": {},
   "source": [
    "### Параметр p Бернулли / Биномиальное"
   ]
  },
  {
   "cell_type": "code",
   "execution_count": null,
   "metadata": {},
   "outputs": [],
   "source": [
    "x = float(input('Prob of success: '))\n",
    "m = int(input('Sample size: '))\n",
    "n = float(input('Type percentage of ci interval: '))\n",
    "sigma = (x * (1 - x)) ** 0.5\n",
    "\n",
    "print('\\n')\n",
    "point = abs(norm.ppf(((100 - n) / 2) / 100))\n",
    "x1 = round(x - ((point * sigma)/(m ** 0.5)), 3)\n",
    "x2 = round(x + ((point * sigma)/(m ** 0.5)), 3)\n",
    "display(Math('{} < \\ p < {}'.format(x1, x2)))"
   ]
  },
  {
   "cell_type": "markdown",
   "metadata": {},
   "source": [
    "### Разность вероятностей (долей)"
   ]
  },
  {
   "cell_type": "code",
   "execution_count": null,
   "metadata": {},
   "outputs": [],
   "source": [
    "p1 = float(input('Point estimator of p1: '))\n",
    "p2 = float(input('Point estimator of p2: '))\n",
    "n1 = int(input('Sample size of 1: '))\n",
    "n2 = int(input('Sample size of 2: '))\n",
    "n = float(input('Type percentage of ci interval: '))\n",
    "\n",
    "point = abs(norm.ppf(((100 - n) / 2) / 100))\n",
    "\n",
    "x1 = round((p1 - p2) - point * ((p1 * (1 - p1) / n1) + (p2 * (1 - p2) / n2)) ** 0.5, 3)\n",
    "x2 = round((p1 - p2) + point * ((p1 * (1 - p1) / n1) + (p2 * (1 - p2) / n2)) ** 0.5, 3)\n",
    "display(Math('{} < \\ p_1 - \\ p_2 < {}'.format(x1, x2)))"
   ]
  },
  {
   "cell_type": "markdown",
   "metadata": {},
   "source": [
    "### Равномерное распределение"
   ]
  },
  {
   "cell_type": "code",
   "execution_count": null,
   "metadata": {},
   "outputs": [],
   "source": [
    "U = float(input('Maximum observed value: '))\n",
    "n = int(input('Sample size: '))\n",
    "m = float(input('Type percentage of ci interval: '))\n",
    "x1 = U / (((((100 - m) / 2) + m) / 100)) ** (1 / n)\n",
    "x2 = U / ((((100 - m) / 2) / 100)) ** (1 / n)\n",
    "display(Math('{} < \\Theta < {}'.format(x1, x2)))"
   ]
  },
  {
   "cell_type": "markdown",
   "metadata": {},
   "source": [
    "### Экспоненциальное распределение, мо"
   ]
  },
  {
   "cell_type": "code",
   "execution_count": null,
   "metadata": {},
   "outputs": [],
   "source": [
    "x = float(input('Введите среднее: '))\n",
    "m = int(input('sample size: '))\n",
    "n = int(input('ci %: '))\n",
    "point = abs(norm.ppf(((100 - n) / 2) / 100))\n",
    "x1 = x - point * (x / m) ** 0.5\n",
    "x2 = x + point * (x / m) ** 0.5\n",
    "display(Math('{} < \\mu < {}'.format(x1, x2)))\n",
    "display(Math('{} < \\lambda < {}'.format(1 / x2, 1 / x1)))\n",
    "display(Math('{} < \\sigma^2 < {}'.format(x1 ** 2, x2 ** 2)))\n",
    "display(Math('\\mu = 1 / \\lambda, \\sigma^2 = 1 / \\lambda^2'))"
   ]
  },
  {
   "cell_type": "markdown",
   "metadata": {},
   "source": [
    "Если дан список"
   ]
  },
  {
   "cell_type": "code",
   "execution_count": null,
   "metadata": {},
   "outputs": [],
   "source": [
    "d = list(map(float, input('Type list: ').split(',')))\n",
    "listSum = sum(d)\n",
    "n = len(d)\n",
    "m = int(input('ci percentage: '))\n",
    "point1 = chi2.ppf(((100 - m) / 2) / 100, 2 * n)\n",
    "point2 = chi2.ppf((((100 - m) / 2) + m) / 100, 2 * n)\n",
    "\n",
    "x2 = 2*listSum / point1\n",
    "x1 = 2*listSum / point2\n",
    "display(Math('{} < \\mu < {}'.format(x1, x2)))\n",
    "display(Math('{} < \\lambda < {}'.format(1 / x2, 1 / x1)))\n",
    "display(Math('{} < \\sigma^2 < {}'.format(x1 ** 2, x2 ** 2)))\n",
    "display(Math('\\mu = 1 / \\lambda, \\sigma^2 = 1 / \\lambda^2'))"
   ]
  },
  {
   "cell_type": "markdown",
   "metadata": {},
   "source": [
    "### Экспоненциальное распределение, вероятность"
   ]
  },
  {
   "cell_type": "markdown",
   "metadata": {},
   "source": [
    "### $ \\lambda = \\frac{1}{X},  \\mu = \\frac{1}{\\lambda}, \\sigma^2 = \\frac{1}{\\lambda^2}$ "
   ]
  },
  {
   "cell_type": "markdown",
   "metadata": {},
   "source": [
    "Если $>$"
   ]
  },
  {
   "cell_type": "code",
   "execution_count": null,
   "metadata": {},
   "outputs": [],
   "source": [
    "lam = float(input('Lambda: '))\n",
    "k = float(input('more than?: '))\n",
    "m = int(input('ci %: '))\n",
    "n = int(input('sample size: '))\n",
    "\n",
    "g = math.exp(-k * lam)\n",
    "g2 = -k * math.exp(-k * lam)\n",
    "point = abs(norm.ppf(((100 - m) / 2) / 100))\n",
    "\n",
    "x1 = g - point * ((g2 ** 2 / (n / lam ** 2)) ** 0.5)\n",
    "x2 = g + point * ((g2 ** 2 / (n / lam ** 2)) ** 0.5)\n",
    "display(Math('{} < \\ P(X > {}) < {}'.format(x1, k, x2)))"
   ]
  },
  {
   "cell_type": "markdown",
   "metadata": {},
   "source": [
    "Если $<$"
   ]
  },
  {
   "cell_type": "code",
   "execution_count": null,
   "metadata": {},
   "outputs": [],
   "source": [
    "lam = float(input('Lambda: '))\n",
    "k = int(input('less than?: '))\n",
    "m = int(input('ci %: '))\n",
    "n = int(input('sample size: '))\n",
    "\n",
    "g = 1 - math.exp(-k * lam)\n",
    "g2 = -k * math.exp(-k * lam)\n",
    "point = abs(norm.ppf(((100 - m) / 2) / 100))\n",
    "\n",
    "x1 = g - point * ((g2 ** 2 / (n / lam ** 2)) ** 0.5)\n",
    "x2 = g + point * ((g2 ** 2 / (n / lam ** 2)) ** 0.5)\n",
    "display(Math('{} < \\ P(X < {}) < {}'.format(x1, k, x2)))"
   ]
  },
  {
   "cell_type": "markdown",
   "metadata": {},
   "source": [
    "### Пуассон асимпт. свойства для лямды"
   ]
  },
  {
   "cell_type": "markdown",
   "metadata": {},
   "source": [
    "$\\lambda = {x}$"
   ]
  },
  {
   "cell_type": "code",
   "execution_count": null,
   "metadata": {},
   "outputs": [],
   "source": [
    "k = float(input('Sample size: '))\n",
    "lam = float(input('lambda or xavg: '))\n",
    "n = int(input('ci percentage: '))\n",
    "\n",
    "\n",
    "point = abs(norm.ppf(((100 - n) / 2) / 100))\n",
    "\n",
    "x1 = lam - point * ((lam / k) ** 0.5)\n",
    "x2 = lam + point * ((lam / k) ** 0.5)\n",
    "display(Math('{} < \\lambda < {}'.format(x1, x2)))"
   ]
  },
  {
   "cell_type": "markdown",
   "metadata": {},
   "source": [
    "### Пуассон дельта метод для вероятности"
   ]
  },
  {
   "cell_type": "code",
   "execution_count": null,
   "metadata": {},
   "outputs": [],
   "source": [
    "k = float(input('P = '))\n",
    "lam = float(input('lambda or xavg: '))\n",
    "z = int(input('sample size: '))\n",
    "n = int(input('ci percentage: '))\n",
    "\n",
    "i = z / lam\n",
    "g = lam ** k * math.exp(- lam) / math.factorial(k)\n",
    "g2 = (math.exp(-lam) * (k - lam) * lam ** (k - 1)) / math.factorial(k)\n",
    "point = abs(norm.ppf(((100 - n) / 2) / 100))\n",
    "\n",
    "x1 = g - point * ((g2 ** 2 / i) ** 0.5)\n",
    "x2 = g + point * ((g2 ** 2 / i) ** 0.5)\n",
    "display(Math('{} < \\ Pois_x = {} < {}'.format(x1, k, x2)))"
   ]
  },
  {
   "cell_type": "markdown",
   "metadata": {},
   "source": [
    "### Дельта метод для ДИ в общем виде"
   ]
  },
  {
   "cell_type": "code",
   "execution_count": null,
   "metadata": {},
   "outputs": [],
   "source": [
    "g = float(input('g(lam): '))\n",
    "g2 = float(input(\"g'lam: \"))\n",
    "i = float(input(\"fisher info: \"))\n",
    "n = int(input('ci percentage: '))\n",
    "point = abs(norm.ppf(((100 - n) / 2) / 100))\n",
    "\n",
    "x1 = g - point * ((g2 ** 2 / i) ** 0.5)\n",
    "x2 = g + point * ((g2 ** 2 / i) ** 0.5)\n",
    "display(Math('{} < \\ g(\\lambda) < {}'.format(x1, x2)))\n"
   ]
  },
  {
   "cell_type": "markdown",
   "metadata": {},
   "source": [
    "### Дельта метод для ОМП"
   ]
  },
  {
   "cell_type": "code",
   "execution_count": null,
   "metadata": {},
   "outputs": [],
   "source": [
    "theta = float(input('theta = '))\n",
    "i = float(input('I = '))\n",
    "n = int(input('ci percentage: '))\n",
    "\n",
    "point = abs(norm.ppf(((100 - n) / 2) / 100))\n",
    "\n",
    "x1 = theta - point * ((1 / i) ** 0.5)\n",
    "x2 = theta + point * ((1 / i) ** 0.5)\n",
    "display(Math('{} < \\ g(\\lambda) < {}'.format(x1, x2)))"
   ]
  },
  {
   "cell_type": "markdown",
   "metadata": {},
   "source": [
    "### Дельта метод для негативного биномиального"
   ]
  },
  {
   "cell_type": "code",
   "execution_count": null,
   "metadata": {},
   "outputs": [],
   "source": [
    "r = float(input('number of failures: '))\n",
    "k = float(input('number of succeses: '))\n",
    "n = int(input('ci percentage: '))\n",
    "\n",
    "point = abs(norm.ppf(((100 - n) / 2) / 100))\n",
    "p = r / (r + k)\n",
    "i = r / ((1 - p) ** 2 * p)\n",
    "x1 = p - point * ((1 / i) ** 0.5)\n",
    "x2 = p + point * ((1 / i) ** 0.5)\n",
    "display(Math('{} < \\ p < {}'.format(x1, x2)))"
   ]
  },
  {
   "cell_type": "markdown",
   "metadata": {},
   "source": [
    "### Геометрическое"
   ]
  },
  {
   "cell_type": "code",
   "execution_count": null,
   "metadata": {},
   "outputs": [],
   "source": [
    "x = float(input('X_average: '))\n",
    "m = int(input('sample size: '))\n",
    "n = int(input('ci percentage: '))\n",
    "\n",
    "theta = 1 / x\n",
    "i = m / theta ** 2 + (m / theta) / (1 - theta) ** 2\n",
    "\n",
    "point = abs(norm.ppf(((100 - n) / 2) / 100))\n",
    "x1 = theta - point * ((1 / i) ** 0.5)\n",
    "x2 = theta + point * ((1 / i) ** 0.5)\n",
    "display(Math('{} < \\ p < {}'.format(x1, x2)))\n",
    "print(theta, i, i)"
   ]
  },
  {
   "cell_type": "code",
   "execution_count": null,
   "metadata": {},
   "outputs": [],
   "source": []
  }
 ],
 "metadata": {
  "kernelspec": {
   "display_name": "Python 3",
   "language": "python",
   "name": "python3"
  },
  "language_info": {
   "codemirror_mode": {
    "name": "ipython",
    "version": 3
   },
   "file_extension": ".py",
   "mimetype": "text/x-python",
   "name": "python",
   "nbconvert_exporter": "python",
   "pygments_lexer": "ipython3",
   "version": "3.7.6"
  }
 },
 "nbformat": 4,
 "nbformat_minor": 2
}
