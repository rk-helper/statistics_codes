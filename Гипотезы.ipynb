{
 "cells": [
  {
   "cell_type": "code",
   "execution_count": 1,
   "metadata": {},
   "outputs": [],
   "source": [
    "from IPython.display import display, Math\n",
    "import statistics\n",
    "import scipy.stats\n",
    "import math\n",
    "import pandas as pd\n",
    "import numpy as np\n",
    "from scipy import stats\n",
    "import matplotlib.pyplot as plt\n",
    "from scipy.stats import norm\n",
    "from scipy.stats import chi2\n",
    "from scipy.stats import t\n",
    "from scipy.stats import f\n",
    "from scipy.stats import expon\n",
    "from scipy.stats import poisson\n",
    "from scipy.stats import bernoulli\n",
    "from scipy.stats import uniform"
   ]
  },
  {
   "cell_type": "markdown",
   "metadata": {},
   "source": [
    "###  <span style=\"color:orange\">Выборочное среднее и дисперсии</span>"
   ]
  },
  {
   "cell_type": "code",
   "execution_count": null,
   "metadata": {
    "scrolled": true
   },
   "outputs": [],
   "source": [
    "d = list(map(float, input().split(',')))\n",
    "print('Выборочное среднее: ', statistics.mean(d))\n",
    "print('Неисправленная выборочная диперсия:', (len(d) - 1)/(len(d))*statistics.variance(d))\n",
    "print('(Несмещенная) Исправленная выборочная диперсия:', statistics.variance(d))"
   ]
  },
  {
   "cell_type": "markdown",
   "metadata": {},
   "source": [
    "### Распределения"
   ]
  },
  {
   "cell_type": "code",
   "execution_count": null,
   "metadata": {},
   "outputs": [],
   "source": [
    "x = str(input('Type of distirbution: '))  # type of distirbution\n",
    "alpha = float(input('Type alpha: '))  # Type percentage of ci interval\n",
    "if x == 'norm':\n",
    "    print('left point:', -norm.ppf(alpha / 2))\n",
    "    print('right point:', norm.ppf(alpha / 2))\n",
    "elif x == 'chi2':\n",
    "    df = int(input(': '))  # number of experiments\n",
    "    print('left point:', chi2.ppf(alpha/2, df - 1))\n",
    "    print('right point:', chi2.ppf(1 - alpha / 2, df - 1))\n",
    "elif x == 't':\n",
    "    df = int(input('Sample size: '))  # number of experiments\n",
    "    print('left point:', t.ppf((alpha/2), df - 1))\n",
    "    print('right point:', t.ppf((1 - alpha/2), df - 1))"
   ]
  },
  {
   "cell_type": "code",
   "execution_count": null,
   "metadata": {},
   "outputs": [],
   "source": [
    "x = str(input('Type of distirbution: '))  # type of distirbution\n",
    "alpha = float(input('Type alpha: '))  # Type alpha\n",
    "if x == 'norm':\n",
    "    print('point:', -norm.ppf(alpha))\n",
    "elif x == 'chi2':\n",
    "    df = int(input('Sample size: '))  # number of experiments\n",
    "    print('left point:', chi2.ppf(alpha, df - 1))\n",
    "elif x == 't':\n",
    "    df = int(input('Sample size: '))  # number of experiments\n",
    "    print('left point:', t.ppf((alpha), df - 1))"
   ]
  },
  {
   "cell_type": "markdown",
   "metadata": {},
   "source": [
    "##  <span style=\"color:red\">Ошибки и мощность</span>"
   ]
  },
  {
   "cell_type": "markdown",
   "metadata": {},
   "source": [
    "## Экспоненциальное"
   ]
  },
  {
   "cell_type": "markdown",
   "metadata": {},
   "source": [
    "### Поиск $\\alpha$ и $\\beta$"
   ]
  },
  {
   "cell_type": "code",
   "execution_count": null,
   "metadata": {},
   "outputs": [],
   "source": [
    "lam0 = float(input('H_0: lambda_0: '))\n",
    "lam1 = float(input('H_0: lambda_1: '))\n",
    "x = float(input('X = '))\n",
    "\n",
    "print('-----------------------')\n",
    "display(Math('H_0 > {}'.format(x)))\n",
    "alpha = expon.cdf(x, scale = 1 / lam0)\n",
    "beta = 1 - expon.cdf(4, scale = 1 / lam1)\n",
    "print('alpha = ', alpha)\n",
    "print('beta = ', beta)\n",
    "print('w = ', 1 - beta)\n",
    "print('-----------------------')\n",
    "display(Math('H_0 < {}'.format(x)))\n",
    "alpha1 = round(1 - expon.cdf(x, scale = 1 / lam0), 4)\n",
    "beta1 = expon.cdf(x, scale = 1 / lam1)\n",
    "print('alpha =', alpha1)\n",
    "print('beta = ', beta1)\n",
    "print('w = ', 1 - beta1)"
   ]
  },
  {
   "cell_type": "markdown",
   "metadata": {},
   "source": [
    "## Пуассон "
   ]
  },
  {
   "cell_type": "markdown",
   "metadata": {},
   "source": [
    "### Поиск $\\alpha$ и $\\beta$"
   ]
  },
  {
   "cell_type": "code",
   "execution_count": null,
   "metadata": {},
   "outputs": [],
   "source": [
    "lam0 = float(input('H_0: lambda_0: '))\n",
    "lam1 = float(input('H_0: lambda_1: '))\n",
    "x = float(input('X = '))\n",
    "\n",
    "print('-----------------------')\n",
    "display(Math('H_0 > {}'.format(x)))\n",
    "alpha = poisson.cdf(x, lam0)\n",
    "beta = 1 - poisson.cdf(x, lam1)\n",
    "print('alpha = ', alpha)\n",
    "print('beta = ', beta)\n",
    "print('w = ', 1 - beta)\n",
    "print('-----------------------')\n",
    "display(Math('H_0 < {}'.format(x)))\n",
    "alpha1 = 1 - poisson.cdf(x, lam0)\n",
    "beta1 = poisson.cdf(x, lam1)\n",
    "print('alpha =', alpha1)\n",
    "print('beta = ', beta1)\n",
    "print('w = ', 1 - beta1)"
   ]
  },
  {
   "cell_type": "markdown",
   "metadata": {},
   "source": [
    "## Бернулли"
   ]
  },
  {
   "cell_type": "markdown",
   "metadata": {},
   "source": [
    "### Поиск $\\alpha$ и $\\beta$"
   ]
  },
  {
   "cell_type": "code",
   "execution_count": null,
   "metadata": {},
   "outputs": [],
   "source": [
    "h0 = float(input('p0: '))\n",
    "h1 = float(input('p1: '))\n",
    "x = int(input('x: '))\n",
    "n = int(input('sample size: '))\n",
    "\n",
    "if h0 > h1:\n",
    "    print('-----------------------')\n",
    "    alpha = round(sum([(h0 ** i) * ((1 - h0) ** (n - i)) * (math.factorial(n) / (math.factorial(i) * math.factorial(n - i))) for i in range(0, x)]), 4)\n",
    "    beta = 1 - round(sum([(h1 ** i) * ((1 - h1) ** (n - i)) * (math.factorial(n) / (math.factorial(i) * math.factorial(n - i))) for i in range(0, x + 1)]), 4)\n",
    "    display(Math('a = {}'.format(alpha)))\n",
    "    display(Math('b = {}'.format(beta)))\n",
    "    print('w =', 1 - beta)\n",
    "    print('-----------------------')"
   ]
  },
  {
   "cell_type": "markdown",
   "metadata": {},
   "source": [
    "### Поиск точки C при известной $\\alpha$"
   ]
  },
  {
   "cell_type": "markdown",
   "metadata": {},
   "source": [
    "$Y < c$"
   ]
  },
  {
   "cell_type": "code",
   "execution_count": null,
   "metadata": {},
   "outputs": [],
   "source": [
    "n = int(input('sample size: '))\n",
    "alpha = float(input('alpha: '))\n",
    "p0 = float(input('p0: '))\n",
    "\n",
    "c = n * (norm.ppf(alpha) * (((p0 * (1 - p0)) / n) ** 0.5) + p0)\n",
    "print('c = ', c)"
   ]
  },
  {
   "cell_type": "markdown",
   "metadata": {},
   "source": [
    "## Равномерное"
   ]
  },
  {
   "cell_type": "markdown",
   "metadata": {},
   "source": [
    "### Поиск $\\alpha$ и $\\beta$"
   ]
  },
  {
   "cell_type": "code",
   "execution_count": null,
   "metadata": {},
   "outputs": [],
   "source": [
    "a1 = float(input('Input a1: '))\n",
    "b1 = float(input('Input b1: '))\n",
    "a2 = float(input('Input a2: '))\n",
    "b2 = float(input('Input b2: '))\n",
    "c = float(input('K: '))\n",
    "\n",
    "p1 = uniform.pdf(a1, a1, b1 - a1)\n",
    "p2 = uniform.pdf(a2, a2, b2 - a2)\n",
    "\n",
    "alpha1 = (b1 - c) * p1\n",
    "alpha2 = (c - a1) * p1\n",
    "beta1 = (b2 - c) * p2\n",
    "beta2 = (c - a2) * p2\n",
    "print('-----------------------')\n",
    "display(Math('H_0 > {}'.format(c)))\n",
    "display(Math('alpha = {}'.format(alpha1)))\n",
    "display(Math('beta = {}'.format(beta1)))\n",
    "print('w = ', 1 - beta1)\n",
    "print('-----------------------')\n",
    "display(Math('H_0 < {}'.format(c)))\n",
    "display(Math('alpha = {}'.format(alpha2)))\n",
    "display(Math('beta = {}'.format(beta2)))\n",
    "print('w = ', 1 - beta2)"
   ]
  },
  {
   "cell_type": "markdown",
   "metadata": {},
   "source": [
    "### Поиск точки C при известной $\\alpha$"
   ]
  },
  {
   "cell_type": "code",
   "execution_count": null,
   "metadata": {},
   "outputs": [],
   "source": [
    "a1 = float(input('Input a0: '))\n",
    "b1 = float(input('Input b0: '))\n",
    "alpha = float(input('alpha: '))\n",
    "print('-----------------------')\n",
    "c = round(b1 - alpha * (b1 - a1), 4)\n",
    "display(Math('H_0 < c'))\n",
    "display(Math('c = {}'.format(c)))\n",
    "print('-----------------------')\n",
    "c = round(alpha * (b1 - a1) - a1, 4)\n",
    "display(Math('H_0 > c'))\n",
    "display(Math('c = {}'.format(c)))"
   ]
  },
  {
   "cell_type": "markdown",
   "metadata": {},
   "source": [
    "### Поиск точки C при известной $\\beta$"
   ]
  },
  {
   "cell_type": "code",
   "execution_count": null,
   "metadata": {},
   "outputs": [],
   "source": [
    "a2 = float(input('Input a1: '))\n",
    "b2 = float(input('Input b1: '))\n",
    "beta = float(input('beta: '))\n",
    "print('-----------------------')\n",
    "c = round(beta * (b2 - a2) + a2, 4)\n",
    "display(Math('H_0 < c'))\n",
    "display(Math('c = {}'.format(c)))\n",
    "print('-----------------------')\n",
    "c = round(b2 - beta * (b2 - a2) , 4)\n",
    "display(Math('H_0 > c'))\n",
    "display(Math('c = {}'.format(c)))"
   ]
  },
  {
   "cell_type": "markdown",
   "metadata": {},
   "source": [
    "## Нормальное"
   ]
  },
  {
   "cell_type": "markdown",
   "metadata": {},
   "source": [
    "### Поиск $\\alpha$ и $\\beta$"
   ]
  },
  {
   "cell_type": "markdown",
   "metadata": {},
   "source": [
    "$H_0 = \\mu_0, H_1 = \\mu_1$"
   ]
  },
  {
   "cell_type": "code",
   "execution_count": null,
   "metadata": {},
   "outputs": [],
   "source": [
    "sigma2 = float(input('sigma^2: '))\n",
    "n = int(input('sample size: '))\n",
    "h0 = float(input('H_0: mu = '))\n",
    "h1 = float(input('H_1: mu = '))\n",
    "x = float(input('type x: '))\n",
    "\n",
    "point0 = (x - h0) / ((sigma2 / n) ** 0.5)\n",
    "point1 = (x - h1) / ((sigma2 / n) ** 0.5)\n",
    "\n",
    "print('-----------------------')\n",
    "display(Math('H_0, X <= {}'.format(x)))\n",
    "display(Math('H_1, X > {}'.format(x)))\n",
    "print('----------')\n",
    "alpha = round(1 - norm.cdf(point0), 4)\n",
    "display(Math('a = {}'.format(alpha)))\n",
    "beta = round(norm.cdf(point1), 4)\n",
    "display(Math('b = {}'.format(beta)))\n",
    "display(Math('W = {}'.format(1 - beta)))\n",
    "\n",
    "print('-----------------------')\n",
    "display(Math('H_0, X > {}'.format(x)))\n",
    "display(Math('H_1, X <= {}'.format(x)))\n",
    "print('----------')\n",
    "alpha = round(norm.cdf(point0), 4)\n",
    "display(Math('a = {}'.format(alpha)))\n",
    "beta = round(1 - norm.cdf(point1), 4)\n",
    "display(Math('b = {}'.format(beta)))\n",
    "display(Math('W = {}'.format(1 - beta)))\n",
    "print('-----------------------')"
   ]
  },
  {
   "cell_type": "markdown",
   "metadata": {},
   "source": [
    "### Поиск $\\beta$ при неизвестном $X$ у гипотезы"
   ]
  },
  {
   "cell_type": "markdown",
   "metadata": {},
   "source": [
    "$H_0 = \\mu_0, H_1 = \\mu_1$"
   ]
  },
  {
   "cell_type": "code",
   "execution_count": null,
   "metadata": {},
   "outputs": [],
   "source": [
    "sigma2 = float(input('sigma^2: '))\n",
    "n = int(input('sample size: '))\n",
    "h0 = float(input('H_0: mu = '))\n",
    "h1 = float(input('H_1: mu = '))\n",
    "alpha = float(input('alpha: '))\n",
    "\n",
    "if h1 > h0:\n",
    "    print('-----------------------')\n",
    "    display(Math('H_0, X = {}'.format(h0)))\n",
    "    display(Math('H_1, X = {}'.format(h1)))\n",
    "    c = h0 + norm.ppf(1 - alpha) * ((sigma2 / n) ** 0.5)\n",
    "    point0 = (c - h1) / ((sigma2 / n) ** 0.5)\n",
    "    beta = norm.cdf(point0)\n",
    "    display(Math('b = {}'.format(beta)))\n",
    "    print('-----------------------')\n",
    "if h1 < h0:\n",
    "    print('-----------------------')\n",
    "    display(Math('H_0, X = {}'.format(h0)))\n",
    "    display(Math('H_1, X = {}'.format(h1)))\n",
    "    c = h0 + norm.ppf(alpha) * ((sigma2 / n) ** 0.5)\n",
    "    point0 = (c - h1) / ((sigma2 / n) ** 0.5)\n",
    "    beta = norm.cdf(point0)\n",
    "    display(Math('b = {}'.format(beta)))\n",
    "    print('-----------------------')"
   ]
  },
  {
   "cell_type": "markdown",
   "metadata": {},
   "source": [
    "### Поиск точки C при известной $\\alpha$"
   ]
  },
  {
   "cell_type": "code",
   "execution_count": null,
   "metadata": {},
   "outputs": [],
   "source": [
    "n = int(input('sample size: '))\n",
    "alpha = float(input('alpha: '))\n",
    "mu0 = float(input('mu0: '))\n",
    "sigma = float(input('sigma0: '))\n",
    "\n",
    "c = mu0 + abs(norm.ppf(0.05))*sigma / (n ** 0.5)\n",
    "print('c = ', c)"
   ]
  },
  {
   "cell_type": "markdown",
   "metadata": {},
   "source": [
    "### Два нормального.. для $\\overline X$"
   ]
  },
  {
   "cell_type": "code",
   "execution_count": null,
   "metadata": {},
   "outputs": [],
   "source": [
    "mu0 = float(input('H_0: mu = '))\n",
    "mu1 = float(input('H_1: mu = '))\n",
    "sigma0 = float(input('sigma_0:'))\n",
    "sigma1 = float(input('sigma_1:'))\n",
    "alpha = float(input('alpha = '))\n",
    "n = int(input('sample size'))\n",
    "\n",
    "print('for mu0 = ', mu0, norm.ppf(1 - alpha, loc = mu0, scale = sigma0 / (n ** 0.5)))\n",
    "print('for mu1 = ', mu1, norm.ppf(alpha, loc = mu1, scale = sigma1 / (n ** 0.5)))"
   ]
  },
  {
   "cell_type": "markdown",
   "metadata": {},
   "source": [
    "## <span style=\"color:red\">Параметры</span>"
   ]
  },
  {
   "cell_type": "markdown",
   "metadata": {},
   "source": [
    "### МО"
   ]
  },
  {
   "cell_type": "markdown",
   "metadata": {},
   "source": [
    "$\\sigma - known, H_0 = \\mu$"
   ]
  },
  {
   "cell_type": "code",
   "execution_count": null,
   "metadata": {},
   "outputs": [],
   "source": [
    "alpha = float(input('alpha: '))\n",
    "mu0 = float(input('H_0(mu): '))\n",
    "sigma = float(input('sigma^2: '))\n",
    "x = float(input('statistics mean: '))\n",
    "m = int(input('sample size: '))\n",
    "\n",
    "point = abs(norm.ppf((alpha / 2)))\n",
    "z = round((x - mu0) / ((sigma / m) ** 0.5), 4)\n",
    "pvalue = round(norm.cdf(abs(z)), 4)\n",
    "\n",
    "print('-----------------------')\n",
    "display(Math('H_1: \\mu \\ != {}'.format(mu0)))\n",
    "if abs(z) > point:\n",
    "    display(Math('[{}, {}]'.format(-point, point)))\n",
    "    display(Math('z = {}'.format(z)))\n",
    "    display(Math('H_0 - reject'))\n",
    "else:\n",
    "    display(Math('[{}, {}]'.format(-point, point)))\n",
    "    display(Math('z = {}'.format(z)))\n",
    "    display(Math('H_0 - accept'))\n",
    "print('pvalue = ', (1 - pvalue)*2)\n",
    "print('-----------------------')\n",
    "\n",
    "display(Math('H_1: \\mu > {}'.format(mu0)))\n",
    "point2 = round(abs(norm.ppf(alpha)), 4)\n",
    "\n",
    "if z >= point2:\n",
    "    display(Math('[-oo, {}]'.format(point2)))\n",
    "    display(Math('z = {}'.format(z)))\n",
    "    display(Math('H_0 - reject'))\n",
    "else:\n",
    "    display(Math('[-oo, {}]'.format(point2)))\n",
    "    display(Math('z = {}'.format(z)))\n",
    "    display(Math('H_0 - accept'))\n",
    "print('pvalue = ', 1 - pvalue)\n",
    "print('-----------------------')\n",
    "\n",
    "display(Math('H_1: \\mu < {}'.format(mu0)))\n",
    "if z < -point2:\n",
    "    display(Math('[{}, +oo]'.format(-point2)))\n",
    "    display(Math('z = {}'.format(z)))\n",
    "    display(Math('H_0 - reject'))\n",
    "else:\n",
    "    display(Math('[{}, +oo]'.format(-point2)))\n",
    "    display(Math('z = {}'.format(z)))\n",
    "    display(Math('H_0 - accept'))\n",
    "print('pvalue = ', pvalue)\n",
    "print('************************')"
   ]
  },
  {
   "cell_type": "markdown",
   "metadata": {},
   "source": [
    "Если дан список"
   ]
  },
  {
   "cell_type": "code",
   "execution_count": null,
   "metadata": {},
   "outputs": [],
   "source": [
    "d = list(map(float, input('Type list: ').split(',')))\n",
    "alpha = float(input('alpha: '))\n",
    "mu0 = float(input('mu0: '))\n",
    "sigma = float(input('sigma^2: '))\n",
    "\n",
    "x = statistics.mean(d)\n",
    "m = len(d)\n",
    "\n",
    "point = abs(norm.ppf((alpha / 2)))\n",
    "z = round((x - mu0) / ((sigma / m) ** 0.5), 4)\n",
    "pvalue = round(norm.cdf(abs(z)), 4)\n",
    "print('-----------------------')\n",
    "\n",
    "display(Math('\\mu = {}'.format(mu0)))\n",
    "if abs(z) > point:\n",
    "    display(Math('[{}, {}]'.format(-point, point)))\n",
    "    display(Math('z = {}'.format(z)))\n",
    "    display(Math('H_0 - reject'))\n",
    "else:\n",
    "    display(Math('[{}, {}]'.format(-point, point)))\n",
    "    display(Math('z = {}'.format(z)))\n",
    "    display(Math('H_0 - accept'))\n",
    "print('pvalue = ', (1 - pvalue)*2)\n",
    "print('-----------------------')\n",
    "\n",
    "display(Math('\\mu > {}'.format(mu0)))\n",
    "point2 = round(abs(norm.ppf(alpha)), 4)\n",
    "\n",
    "if z >= point2:\n",
    "    display(Math('[-oo, {}]'.format(point2)))\n",
    "    display(Math('z = {}'.format(z)))\n",
    "    display(Math('H_0 - reject'))\n",
    "else:\n",
    "    display(Math('[-oo, {}]'.format(point2)))\n",
    "    display(Math('z = {}'.format(z)))\n",
    "    display(Math('H_0 - accept'))\n",
    "print('pvalue = ', 1 - pvalue)\n",
    "print('-----------------------')\n",
    "\n",
    "display(Math('\\mu < {}'.format(mu0)))\n",
    "if z < -point2:\n",
    "    display(Math('[{}, +oo]'.format(-point2)))\n",
    "    display(Math('z = {}'.format(z)))\n",
    "    display(Math('H_0 - reject'))\n",
    "else:\n",
    "    display(Math('[{}, +oo]'.format(-point2)))\n",
    "    display(Math('z = {}'.format(z)))\n",
    "    display(Math('H_0 - accept'))\n",
    "print('pvalue = ', pvalue)\n",
    "print('************************')"
   ]
  },
  {
   "cell_type": "markdown",
   "metadata": {},
   "source": [
    "### МО // Дисперсия неизвестна"
   ]
  },
  {
   "cell_type": "markdown",
   "metadata": {},
   "source": [
    "$\\sigma - \\color{blue} {unknown}, H_0 = \\mu$"
   ]
  },
  {
   "cell_type": "code",
   "execution_count": 4,
   "metadata": {},
   "outputs": [
    {
     "name": "stdout",
     "output_type": "stream",
     "text": [
      "alpha: 0.05\n",
      "mu0: 10\n",
      "sigma^2: 10\n",
      "statistics mean: 0\n",
      "sample size: 10\n",
      "-----------------------\n"
     ]
    },
    {
     "data": {
      "text/latex": [
       "$\\displaystyle \\mu = 10.0$"
      ],
      "text/plain": [
       "<IPython.core.display.Math object>"
      ]
     },
     "metadata": {},
     "output_type": "display_data"
    },
    {
     "data": {
      "text/latex": [
       "$\\displaystyle [-2.2622, 2.2622]$"
      ],
      "text/plain": [
       "<IPython.core.display.Math object>"
      ]
     },
     "metadata": {},
     "output_type": "display_data"
    },
    {
     "data": {
      "text/latex": [
       "$\\displaystyle z = -10.0$"
      ],
      "text/plain": [
       "<IPython.core.display.Math object>"
      ]
     },
     "metadata": {},
     "output_type": "display_data"
    },
    {
     "data": {
      "text/latex": [
       "$\\displaystyle H_0 - reject$"
      ],
      "text/plain": [
       "<IPython.core.display.Math object>"
      ]
     },
     "metadata": {},
     "output_type": "display_data"
    },
    {
     "name": "stdout",
     "output_type": "stream",
     "text": [
      "pvalue =  0.0\n",
      "-----------------------\n"
     ]
    },
    {
     "data": {
      "text/latex": [
       "$\\displaystyle \\mu > 10.0$"
      ],
      "text/plain": [
       "<IPython.core.display.Math object>"
      ]
     },
     "metadata": {},
     "output_type": "display_data"
    },
    {
     "data": {
      "text/latex": [
       "$\\displaystyle [-oo, 1.8331]$"
      ],
      "text/plain": [
       "<IPython.core.display.Math object>"
      ]
     },
     "metadata": {},
     "output_type": "display_data"
    },
    {
     "data": {
      "text/latex": [
       "$\\displaystyle z = -10.0$"
      ],
      "text/plain": [
       "<IPython.core.display.Math object>"
      ]
     },
     "metadata": {},
     "output_type": "display_data"
    },
    {
     "data": {
      "text/latex": [
       "$\\displaystyle [-oo, 1.8331]$"
      ],
      "text/plain": [
       "<IPython.core.display.Math object>"
      ]
     },
     "metadata": {},
     "output_type": "display_data"
    },
    {
     "name": "stdout",
     "output_type": "stream",
     "text": [
      "pvalue =  0.0\n",
      "-----------------------\n"
     ]
    },
    {
     "data": {
      "text/latex": [
       "$\\displaystyle \\mu < 10.0$"
      ],
      "text/plain": [
       "<IPython.core.display.Math object>"
      ]
     },
     "metadata": {},
     "output_type": "display_data"
    },
    {
     "data": {
      "text/latex": [
       "$\\displaystyle [-1.8331, +oo]$"
      ],
      "text/plain": [
       "<IPython.core.display.Math object>"
      ]
     },
     "metadata": {},
     "output_type": "display_data"
    },
    {
     "data": {
      "text/latex": [
       "$\\displaystyle z = -10.0$"
      ],
      "text/plain": [
       "<IPython.core.display.Math object>"
      ]
     },
     "metadata": {},
     "output_type": "display_data"
    },
    {
     "data": {
      "text/latex": [
       "$\\displaystyle H_0 - reject$"
      ],
      "text/plain": [
       "<IPython.core.display.Math object>"
      ]
     },
     "metadata": {},
     "output_type": "display_data"
    },
    {
     "name": "stdout",
     "output_type": "stream",
     "text": [
      "pvalue =  1.0\n",
      "-----------------------\n"
     ]
    }
   ],
   "source": [
    "alpha = float(input('alpha: '))\n",
    "mu0 = float(input('mu0: '))\n",
    "sigma = float(input('sigma^2: '))\n",
    "x = float(input('statistics mean: '))\n",
    "m = int(input('sample size: '))\n",
    "\n",
    "point = round(abs(t.ppf((alpha / 2), m - 1)), 4)\n",
    "z = round((x - mu0) / ((sigma / m) ** 0.5), 4)\n",
    "pvalue = round(t.cdf(abs(z), m - 1), 4)\n",
    "\n",
    "print('-----------------------')\n",
    "display(Math('\\mu = {}'.format(mu0)))\n",
    "display(Math('[{}, {}]'.format(-point, point)))\n",
    "display(Math('z = {}'.format(z)))\n",
    "if abs(z) > point:\n",
    "    display(Math('H_0 - reject'))\n",
    "else:\n",
    "    display(Math('[{}, {}]'.format(-point, point)))\n",
    "print('pvalue = ', round((1 - pvalue)*2, 4))\n",
    "print('-----------------------')\n",
    "\n",
    "display(Math('\\mu > {}'.format(mu0)))\n",
    "point2 = round(abs(t.ppf(alpha, m - 1)), 4)\n",
    "display(Math('[-oo, {}]'.format(point2)))\n",
    "display(Math('z = {}'.format(z)))\n",
    "if z >= point2:\n",
    "    display(Math('H_0 - reject'))\n",
    "else:\n",
    "    display(Math('[-oo, {}]'.format(point2)))\n",
    "print('pvalue = ', round(1 - pvalue, 4))\n",
    "print('-----------------------')\n",
    "\n",
    "display(Math('\\mu < {}'.format(mu0)))\n",
    "display(Math('[{}, +oo]'.format(-point2)))\n",
    "display(Math('z = {}'.format(z)))\n",
    "if z < -point2:\n",
    "    display(Math('H_0 - reject'))\n",
    "else:\n",
    "    display(Math('[{}, +oo]'.format(-point2))) \n",
    "print('pvalue = ', pvalue)\n",
    "print('-----------------------')"
   ]
  },
  {
   "cell_type": "markdown",
   "metadata": {},
   "source": [
    "Если дан список"
   ]
  },
  {
   "cell_type": "code",
   "execution_count": null,
   "metadata": {},
   "outputs": [],
   "source": [
    "d = list(map(float, input('Type list: ').split(',')))\n",
    "alpha = float(input('alpha: '))\n",
    "mu0 = float(input('mu0: '))\n",
    "\n",
    "sigma = statistics.variance(d)\n",
    "x = statistics.mean(d)\n",
    "m = len(d)\n",
    "\n",
    "point = abs(t.ppf((alpha / 2), m - 1))\n",
    "z = round((x - mu0) / ((sigma / m) ** 0.5), 4)\n",
    "pvalue = round(t.cdf(abs(z), m - 1), 4)\n",
    "\n",
    "\n",
    "print('-----------------------')\n",
    "display(Math('\\mu = {}'.format(mu0)))\n",
    "if abs(z) > point:\n",
    "    display(Math('[{}, {}]'.format(-point, point)))\n",
    "    display(Math('z = {}'.format(z)))\n",
    "    display(Math('H_0 - reject'))\n",
    "else:\n",
    "    display(Math('[{}, {}]'.format(-point, point)))\n",
    "    display(Math('z = {}'.format(z)))\n",
    "    display(Math('H_0 - accept'))\n",
    "print('pvalue = ', round((1 - pvalue)*2, 4))\n",
    "print('-----------------------')\n",
    "\n",
    "display(Math('\\mu > {}'.format(mu0)))\n",
    "point2 = round(abs(t.ppf(alpha, m - 1)), 4)\n",
    "if z >= point2:\n",
    "    display(Math('[-oo, {}]'.format(point2)))\n",
    "    display(Math('z = {}'.format(z)))\n",
    "    display(Math('H_0 - reject'))\n",
    "else:\n",
    "    display(Math('[-oo, {}]'.format(point2)))\n",
    "    display(Math('z = {}'.format(z)))\n",
    "    display(Math('H_0 - accept'))\n",
    "print('pvalue = ', round(1 - pvalue, 4))\n",
    "print('-----------------------')\n",
    "\n",
    "display(Math('\\mu < {}'.format(mu0)))\n",
    "if z < -point2:\n",
    "    display(Math('[{}, +oo]'.format(-point2)))\n",
    "    display(Math('z = {}'.format(z)))\n",
    "    display(Math('H_0 - reject'))\n",
    "else:\n",
    "    display(Math('[{}, +oo]'.format(-point2)))\n",
    "    display(Math('z = {}'.format(z)))\n",
    "    display(Math('H_0 - accept'))\n",
    "print('pvalue = ', pvalue)"
   ]
  },
  {
   "cell_type": "markdown",
   "metadata": {},
   "source": [
    "### Дисперсия"
   ]
  },
  {
   "cell_type": "markdown",
   "metadata": {},
   "source": [
    "$H_0 = \\sigma^2$"
   ]
  },
  {
   "cell_type": "code",
   "execution_count": 3,
   "metadata": {},
   "outputs": [
    {
     "name": "stdout",
     "output_type": "stream",
     "text": [
      "alpha: 0.05\n",
      "H_0: sigma^2: 3\n",
      "statistics variance^2: 4\n",
      "sample size: 25\n",
      "-----------------------\n"
     ]
    },
    {
     "data": {
      "text/latex": [
       "$\\displaystyle H_1: \\sigma^2 \\ != 3.0$"
      ],
      "text/plain": [
       "<IPython.core.display.Math object>"
      ]
     },
     "metadata": {},
     "output_type": "display_data"
    },
    {
     "data": {
      "text/latex": [
       "$\\displaystyle [12.4012, 39.3641]$"
      ],
      "text/plain": [
       "<IPython.core.display.Math object>"
      ]
     },
     "metadata": {},
     "output_type": "display_data"
    },
    {
     "data": {
      "text/latex": [
       "$\\displaystyle z = 32.0$"
      ],
      "text/plain": [
       "<IPython.core.display.Math object>"
      ]
     },
     "metadata": {},
     "output_type": "display_data"
    },
    {
     "data": {
      "text/latex": [
       "$\\displaystyle H_0 - accept$"
      ],
      "text/plain": [
       "<IPython.core.display.Math object>"
      ]
     },
     "metadata": {},
     "output_type": "display_data"
    },
    {
     "name": "stdout",
     "output_type": "stream",
     "text": [
      "-----------------------\n"
     ]
    },
    {
     "data": {
      "text/latex": [
       "$\\displaystyle H_1: \\sigma^2 > 3.0$"
      ],
      "text/plain": [
       "<IPython.core.display.Math object>"
      ]
     },
     "metadata": {},
     "output_type": "display_data"
    },
    {
     "data": {
      "text/latex": [
       "$\\displaystyle [-oo, 13.8484]$"
      ],
      "text/plain": [
       "<IPython.core.display.Math object>"
      ]
     },
     "metadata": {},
     "output_type": "display_data"
    },
    {
     "data": {
      "text/latex": [
       "$\\displaystyle z = 32.0$"
      ],
      "text/plain": [
       "<IPython.core.display.Math object>"
      ]
     },
     "metadata": {},
     "output_type": "display_data"
    },
    {
     "data": {
      "text/latex": [
       "$\\displaystyle H_0 - reject$"
      ],
      "text/plain": [
       "<IPython.core.display.Math object>"
      ]
     },
     "metadata": {},
     "output_type": "display_data"
    },
    {
     "name": "stdout",
     "output_type": "stream",
     "text": [
      "0.1269926700663444\n",
      "-----------------------\n"
     ]
    },
    {
     "data": {
      "text/latex": [
       "$\\displaystyle H_1: \\sigma^2 < 3.0$"
      ],
      "text/plain": [
       "<IPython.core.display.Math object>"
      ]
     },
     "metadata": {},
     "output_type": "display_data"
    },
    {
     "data": {
      "text/latex": [
       "$\\displaystyle [36.415, +oo]$"
      ],
      "text/plain": [
       "<IPython.core.display.Math object>"
      ]
     },
     "metadata": {},
     "output_type": "display_data"
    },
    {
     "data": {
      "text/latex": [
       "$\\displaystyle z = 32.0$"
      ],
      "text/plain": [
       "<IPython.core.display.Math object>"
      ]
     },
     "metadata": {},
     "output_type": "display_data"
    },
    {
     "data": {
      "text/latex": [
       "$\\displaystyle H_0 - reject$"
      ],
      "text/plain": [
       "<IPython.core.display.Math object>"
      ]
     },
     "metadata": {},
     "output_type": "display_data"
    },
    {
     "name": "stdout",
     "output_type": "stream",
     "text": [
      "0.8730073299336556\n",
      "-----------------------\n"
     ]
    }
   ],
   "source": [
    "alpha = float(input('alpha: '))\n",
    "sigma0 = float(input('H_0: sigma^2: '))\n",
    "sigma = float(input('statistics variance^2: '))\n",
    "m = int(input('sample size: '))\n",
    "\n",
    "point1 = round(chi2.ppf(alpha / 2, m - 1), 4)\n",
    "point2 = round(chi2.ppf(1 - alpha / 2, m - 1), 4)\n",
    "\n",
    "z = round(sigma / sigma0 * (m - 1), 4)\n",
    "\n",
    "pvalue = chi2.cdf(z, m - 1)\n",
    "print('-----------------------')\n",
    "display(Math('H_1: \\sigma^2 \\ != {}'.format(sigma0)))\n",
    "if z > point1 and z < point2:\n",
    "    display(Math('[{}, {}]'.format(point1, point2)))\n",
    "    display(Math('z = {}'.format(z)))\n",
    "    display(Math('H_0 - accept'))\n",
    "else:\n",
    "    display(Math('[{}, {}]'.format(point1, point2)))\n",
    "    display(Math('z = {}'.format(z)))\n",
    "    display(Math('H_0 - reject'))\n",
    "print('-----------------------')\n",
    "display(Math('H_1: \\sigma^2 > {}'.format(sigma0)))\n",
    "point3 = round(chi2.ppf(alpha, m - 1), 4)\n",
    "if z < point3:\n",
    "    display(Math('[-oo, {}]'.format(point3)))\n",
    "    display(Math('z = {}'.format(z)))\n",
    "    display(Math('H_0 - accept'))\n",
    "else:\n",
    "    display(Math('[-oo, {}]'.format(point3)))\n",
    "    display(Math('z = {}'.format(z)))\n",
    "    display(Math('H_0 - reject'))\n",
    "print(1 - pvalue)\n",
    "print('-----------------------')\n",
    "display(Math('H_1: \\sigma^2 < {}'.format(sigma0)))\n",
    "point4 = round(chi2.ppf(1 - alpha, m - 1), 4)\n",
    "if z > point4:\n",
    "    display(Math('[{}, +oo]'.format(point4)))\n",
    "    display(Math('z = {}'.format(z)))\n",
    "    display(Math('H_0 - accept'))\n",
    "else:\n",
    "    display(Math('[{}, +oo]'.format(point4)))\n",
    "    display(Math('z = {}'.format(z)))\n",
    "    display(Math('H_0 - reject'))\n",
    "print(pvalue)\n",
    "print('-----------------------')"
   ]
  },
  {
   "cell_type": "markdown",
   "metadata": {},
   "source": [
    "Если дан список"
   ]
  },
  {
   "cell_type": "code",
   "execution_count": null,
   "metadata": {},
   "outputs": [],
   "source": [
    "d = list(map(float, input('Type list: ').split(',')))\n",
    "alpha = float(input('alpha: '))\n",
    "sigma0 = float(input('H_0: sigma^2: '))\n",
    "\n",
    "sigma = statistics.variance(d)\n",
    "x = statistics.mean(d)\n",
    "m = len(d)\n",
    "point1 = round(chi2.ppf(alpha / 2, m - 1), 4)\n",
    "point2 = round(chi2.ppf(1 - alpha / 2, m - 1), 4)\n",
    "pvalue = chi2.cdf(z, m - 1)\n",
    "z = round(sum([(i - x) ** 2 for i in d]) / sigma0, 4)\n",
    "\n",
    "print('-----------------------')\n",
    "display(Math('\\sigma^2 = {}'.format(sigma0)))\n",
    "if z > point1 and z < point2:\n",
    "    display(Math('[{}, {}]'.format(point1, point2)))\n",
    "    display(Math('z = {}'.format(z)))\n",
    "    display(Math('H_0 - accept'))\n",
    "else:\n",
    "    display(Math('[{}, {}]'.format(point1, point2)))\n",
    "    display(Math('z = {}'.format(z)))\n",
    "    display(Math('H_0 - reject'))\n",
    "print('-----------------------')\n",
    "display(Math('\\sigma^2 < {}'.format(sigma0)))\n",
    "point3 = round(chi2.ppf(alpha, m - 1), 4)\n",
    "if z > point3:\n",
    "    display(Math('[{}, +oo]'.format(point3)))\n",
    "    display(Math('z = {}'.format(z)))\n",
    "    display(Math('H_0 - accept'))\n",
    "else:\n",
    "    display(Math('[{}, +oo]'.format(point3)))\n",
    "    display(Math('z = {}'.format(z)))\n",
    "    display(Math('H_0 - reject'))\n",
    "print(pvalue)\n",
    "print('-----------------------')\n",
    "display(Math('\\sigma^2 > {}'.format(sigma0)))\n",
    "point4 = round(chi2.ppf(1 - alpha, m - 1), 4)\n",
    "if z < point4:\n",
    "    display(Math('[0, {}]'.format(point4)))\n",
    "    display(Math('z = {}'.format(z)))\n",
    "    display(Math('H_0 - accept'))\n",
    "else:\n",
    "    display(Math('[0, {}]'.format(point4)))\n",
    "    display(Math('z = {}'.format(z)))\n",
    "    display(Math('H_0 - reject'))\n",
    "print(1 - pvalue)\n",
    "print('-----------------------')"
   ]
  },
  {
   "cell_type": "markdown",
   "metadata": {},
   "source": [
    "### Гипотеза о равенстве дисперсий"
   ]
  },
  {
   "cell_type": "code",
   "execution_count": null,
   "metadata": {},
   "outputs": [],
   "source": [
    "sigmax = float(input('sigma^2(x): '))\n",
    "m = int(input('before sample size: '))\n",
    "sigmay = float(input('sigma^2(y): '))\n",
    "n = int(input('after sample size: '))\n",
    "alpha = float(input('alpha: '))\n",
    "\n",
    "z = round(sigmax / sigmay, 4)\n",
    "point1 = round(f.ppf(alpha / 2, m - 1, n - 1), 4)\n",
    "point2 = round(f.ppf(1 - alpha / 2, m - 1, n - 1), 4)\n",
    "point3 = round(f.ppf(alpha, m - 1, n - 1), 4)\n",
    "pvalue = f.cdf(z, m - 1, n - 1)\n",
    "print('-----------------------')\n",
    "if z > point1 and z < point2:\n",
    "    display(Math('[{}, {}]'.format(point1, point2)))\n",
    "    display(Math('z = {}'.format(z)))\n",
    "    display(Math('H_0 - accept'))\n",
    "else:\n",
    "    display(Math('[{}, {}]'.format(point1, point2)))\n",
    "    display(Math('z = {}'.format(z)))\n",
    "    display(Math('H_0 - reject'))\n",
    "print('-----------------------')\n",
    "if z > point3:\n",
    "    display(Math('[{}, +oo]'.format(point3)))\n",
    "    display(Math('z = {}'.format(z)))\n",
    "    display(Math('H_0 - accept'))\n",
    "else:\n",
    "    display(Math('[{}, +oo]'.format(point3)))\n",
    "    display(Math('z = {}'.format(z)))\n",
    "    display(Math('H_0 - reject'))\n",
    "print(pvalue)\n",
    "print('-----------------------')\n",
    "point4 = round(f.ppf(1 - alpha, m - 1, n - 1), 4)\n",
    "if z < point4:\n",
    "    display(Math('[0, {}]'.format(point4)))\n",
    "    display(Math('z = {}'.format(z)))\n",
    "    display(Math('H_0 - accept'))\n",
    "else:\n",
    "    display(Math('[0, {}]'.format(point4)))\n",
    "    display(Math('z = {}'.format(z)))\n",
    "    display(Math('H_0 - reject'))\n",
    "print(1 - pvalue)\n",
    "print('-----------------------')"
   ]
  },
  {
   "cell_type": "markdown",
   "metadata": {},
   "source": [
    "## <span style=\"color:red\">Асимптотика</span>"
   ]
  },
  {
   "cell_type": "markdown",
   "metadata": {},
   "source": [
    "### МО"
   ]
  },
  {
   "cell_type": "markdown",
   "metadata": {},
   "source": [
    "$H_0 = \\mu$"
   ]
  },
  {
   "cell_type": "code",
   "execution_count": null,
   "metadata": {},
   "outputs": [],
   "source": [
    "x = float(input('Statistics mean: '))\n",
    "m = int(input('sample size: '))\n",
    "sig2 = float(input('Sample variance: '))\n",
    "alpha = float(input('Alpha: '))\n",
    "mu0 = float(input('mu0: '))\n",
    "\n",
    "z = (x - mu0) / ((sig2 / m) ** 0.5)\n",
    "print('-----------------------')\n",
    "display(Math('\\mu = {}'.format(mu0)))\n",
    "\n",
    "point = abs(norm.ppf(alpha / 2))\n",
    "\n",
    "if abs(z) < point:\n",
    "    display(Math('point = {}, z = {}'.format(point, z)))\n",
    "    display(Math('H_0 - accept'))\n",
    "else:\n",
    "    display(Math('point = {}, z = {}'.format(point, z)))\n",
    "    display(Math('H_0 - reject'))\n",
    "print('-----------------------')\n",
    "\n",
    "display(Math('\\mu > {}'.format(mu0)))\n",
    "\n",
    "point2 = abs(norm.ppf(alpha))\n",
    "\n",
    "if z < point2:\n",
    "    display(Math('point2 = {}, z = {}'.format(point2, z)))\n",
    "    display(Math('H_0 - accept'))\n",
    "else:\n",
    "    display(Math('point = {}, z = {}'.format(point2, z)))\n",
    "    display(Math('H_0 - accept'))\n",
    "print('-----------------------')\n",
    "\n",
    "display(Math('\\mu < {}'.format(mu0)))\n",
    "if z < -point2:\n",
    "    display(Math('point2 = {}, z = {}'.format(-point2, z)))\n",
    "    display(Math('H_0 - reject'))\n",
    "else:\n",
    "    display(Math('point2 = {}, z = {}'.format(-point2, z)))\n",
    "    display(Math('H_0 - accept'))\n",
    "print('-----------------------')\n",
    "\n",
    "p_value = round(norm.cdf(-point2), 4)\n",
    "display(Math('P-value = {}'.format(p_value)))"
   ]
  },
  {
   "cell_type": "markdown",
   "metadata": {},
   "source": [
    "### Бернулли"
   ]
  },
  {
   "cell_type": "markdown",
   "metadata": {},
   "source": [
    "$H_0 = p$"
   ]
  },
  {
   "cell_type": "code",
   "execution_count": 2,
   "metadata": {},
   "outputs": [
    {
     "name": "stdout",
     "output_type": "stream",
     "text": [
      "prob of success: 0.66\n",
      "sample size: 81\n",
      "Alpha: 0.05\n",
      "p0: 0.5\n"
     ]
    },
    {
     "data": {
      "text/latex": [
       "$\\displaystyle p = 0.5$"
      ],
      "text/plain": [
       "<IPython.core.display.Math object>"
      ]
     },
     "metadata": {},
     "output_type": "display_data"
    },
    {
     "name": "stdout",
     "output_type": "stream",
     "text": [
      "-----------------------\n"
     ]
    },
    {
     "data": {
      "text/latex": [
       "$\\displaystyle [-1.96, 1.96]$"
      ],
      "text/plain": [
       "<IPython.core.display.Math object>"
      ]
     },
     "metadata": {},
     "output_type": "display_data"
    },
    {
     "data": {
      "text/latex": [
       "$\\displaystyle z = 3.0398$"
      ],
      "text/plain": [
       "<IPython.core.display.Math object>"
      ]
     },
     "metadata": {},
     "output_type": "display_data"
    },
    {
     "data": {
      "text/latex": [
       "$\\displaystyle H_0 - reject$"
      ],
      "text/plain": [
       "<IPython.core.display.Math object>"
      ]
     },
     "metadata": {},
     "output_type": "display_data"
    },
    {
     "name": "stdout",
     "output_type": "stream",
     "text": [
      "pvalue =  0.0023999999999999577\n",
      "-----------------------\n"
     ]
    },
    {
     "data": {
      "text/latex": [
       "$\\displaystyle p > 0.5$"
      ],
      "text/plain": [
       "<IPython.core.display.Math object>"
      ]
     },
     "metadata": {},
     "output_type": "display_data"
    },
    {
     "data": {
      "text/latex": [
       "$\\displaystyle [-oo, 1.6449]$"
      ],
      "text/plain": [
       "<IPython.core.display.Math object>"
      ]
     },
     "metadata": {},
     "output_type": "display_data"
    },
    {
     "data": {
      "text/latex": [
       "$\\displaystyle z = 3.0398$"
      ],
      "text/plain": [
       "<IPython.core.display.Math object>"
      ]
     },
     "metadata": {},
     "output_type": "display_data"
    },
    {
     "data": {
      "text/latex": [
       "$\\displaystyle H_0 - reject$"
      ],
      "text/plain": [
       "<IPython.core.display.Math object>"
      ]
     },
     "metadata": {},
     "output_type": "display_data"
    },
    {
     "name": "stdout",
     "output_type": "stream",
     "text": [
      "pvalue =  0.0011999999999999789\n",
      "-----------------------\n"
     ]
    },
    {
     "data": {
      "text/latex": [
       "$\\displaystyle p < 0.5$"
      ],
      "text/plain": [
       "<IPython.core.display.Math object>"
      ]
     },
     "metadata": {},
     "output_type": "display_data"
    },
    {
     "data": {
      "text/latex": [
       "$\\displaystyle [-1.6449, +oo]$"
      ],
      "text/plain": [
       "<IPython.core.display.Math object>"
      ]
     },
     "metadata": {},
     "output_type": "display_data"
    },
    {
     "data": {
      "text/latex": [
       "$\\displaystyle z = 3.0398$"
      ],
      "text/plain": [
       "<IPython.core.display.Math object>"
      ]
     },
     "metadata": {},
     "output_type": "display_data"
    },
    {
     "data": {
      "text/latex": [
       "$\\displaystyle H_0 - accept$"
      ],
      "text/plain": [
       "<IPython.core.display.Math object>"
      ]
     },
     "metadata": {},
     "output_type": "display_data"
    },
    {
     "name": "stdout",
     "output_type": "stream",
     "text": [
      "pvalue =  0.9988\n",
      "-----------------------\n"
     ]
    }
   ],
   "source": [
    "x = float(input('prob of success: '))\n",
    "m = int(input('sample size: '))\n",
    "alpha = float(input('Alpha: '))\n",
    "mu0 = float(input('p0: '))\n",
    "\n",
    "sig2 = x * (1 - x)\n",
    "z = round((x - mu0) / ((sig2 / m) ** 0.5), 4)\n",
    "display(Math('p = {}'.format(mu0)))\n",
    "point = round(abs(norm.ppf(alpha / 2)), 4)\n",
    "\n",
    "\n",
    "pvalue = round(norm.cdf(z), 4)\n",
    "print('-----------------------')\n",
    "if abs(z) < point:\n",
    "    display(Math('[{}, {}]'.format(-point, point)))\n",
    "    display(Math('z = {}'.format(z)))\n",
    "    display(Math('H_0 - accept'))\n",
    "else:\n",
    "    display(Math('[{}, {}]'.format(-point, point)))\n",
    "    display(Math('z = {}'.format(z)))\n",
    "    display(Math('H_0 - reject'))\n",
    "if z > 0:\n",
    "    print('pvalue = ', (1 - abs(pvalue))*2)\n",
    "else:\n",
    "    print('pvalue = ', pvalue*2)\n",
    "print('-----------------------')\n",
    "\n",
    "display(Math('p > {}'.format(mu0)))\n",
    "\n",
    "point2 = round(abs(norm.ppf(alpha)), 4)\n",
    "\n",
    "if z < point2:\n",
    "    display(Math('[-oo, {}]'.format(point2)))\n",
    "    display(Math('z = {}'.format(z)))\n",
    "    display(Math('H_0 - accept'))\n",
    "else:\n",
    "    display(Math('[-oo, {}]'.format(point2)))\n",
    "    display(Math('z = {}'.format(z)))\n",
    "    display(Math('H_0 - reject'))\n",
    "print('pvalue = ', (1 - pvalue))\n",
    "print('-----------------------')\n",
    "\n",
    "display(Math('p < {}'.format(mu0)))\n",
    "if z < -point2:\n",
    "    display(Math('[{}, +oo]'.format(-point2)))\n",
    "    display(Math('z = {}'.format(z)))\n",
    "    display(Math('H_0 - reject'))\n",
    "else:\n",
    "    display(Math('[{}, +oo]'.format(-point2)))\n",
    "    display(Math('z = {}'.format(z)))\n",
    "    display(Math('H_0 - accept'))\n",
    "print('pvalue = ', (pvalue))\n",
    "print('-----------------------')"
   ]
  },
  {
   "cell_type": "markdown",
   "metadata": {},
   "source": [
    "### Поиск оптимального n для заданных $\\alpha$, $\\beta$, $\\sigma$"
   ]
  },
  {
   "cell_type": "markdown",
   "metadata": {},
   "source": [
    "$H_0 = \\mu_0, H_1 = \\mu_1$"
   ]
  },
  {
   "cell_type": "code",
   "execution_count": null,
   "metadata": {},
   "outputs": [],
   "source": [
    "alpha = float(input('alpha: '))\n",
    "beta = float(input('beta: '))\n",
    "h0 = float(input('h0: '))\n",
    "h1 = float(input('h1: '))\n",
    "sigma = float(input('sigma: '))\n",
    "\n",
    "n = ((norm.ppf(alpha) + norm.ppf(beta)) ** 2) * ((sigma) ** 2) / ((h1 - h0) ** 2)\n",
    "\n",
    "print('-----------------------')\n",
    "display(Math('n = {}'.format(n)))"
   ]
  }
 ],
 "metadata": {
  "kernelspec": {
   "display_name": "Python 3",
   "language": "python",
   "name": "python3"
  },
  "language_info": {
   "codemirror_mode": {
    "name": "ipython",
    "version": 3
   },
   "file_extension": ".py",
   "mimetype": "text/x-python",
   "name": "python",
   "nbconvert_exporter": "python",
   "pygments_lexer": "ipython3",
   "version": "3.7.6"
  }
 },
 "nbformat": 4,
 "nbformat_minor": 2
}
